{
 "cells": [
  {
   "cell_type": "code",
   "execution_count": 1,
   "metadata": {},
   "outputs": [],
   "source": [
    "import pandas as pd\n",
    "import numpy as np"
   ]
  },
  {
   "cell_type": "code",
   "execution_count": 2,
   "metadata": {},
   "outputs": [],
   "source": [
    "cordinates={\"Home\":(49.2,-123.4),\"Store A\":(49.3,-123.4),\"Store B\":(49.3,-123.3),\"School\":(49.3,-123.2),\"Hospital\":(50.1,-123.2),'intersection':(49.2,-123.2)}\n",
    "possible_paths=[(\"Home\",\"Store A\"),(\"Store A\",\"Home\"),(\"Home\",\"Store B\"),(\"Home\",\"intersection\"),(\"Store A\",\"Store B\"),(\"Store B\",\"School\"),(\"School\",\"Store B\"),(\"School\",'intersection'),(\"intersection\",\"School\"),(\"School\",\"Hospital\"),(\"Hospital\",\"School\"),(\"Hospital\",\"Grocery\")]"
   ]
  },
  {
   "cell_type": "code",
   "execution_count": 31,
   "metadata": {},
   "outputs": [],
   "source": [
    "initial_position=\"Home\"\n",
    "final_position=\"intersection\""
   ]
  },
  {
   "cell_type": "code",
   "execution_count": 32,
   "metadata": {},
   "outputs": [],
   "source": [
    "initial_position_paths=[x for x in possible_paths if x[0]==initial_position]\n",
    "path_lead_to_final_position=[x[0] for x in possible_paths if x[1]==final_position]"
   ]
  },
  {
   "cell_type": "code",
   "execution_count": 33,
   "metadata": {},
   "outputs": [],
   "source": [
    "def check_multiple(init_pos,final_pos,initial_paths,final_paths,counter=0):\n",
    "    initial=init_pos\n",
    "    final=final_pos\n",
    "    initial_paths=[x for x in initial_paths if x[1]!=initial]\n",
    "    local_paths=[]\n",
    "    count=counter\n",
    "    for i in initial_paths:\n",
    "        if i[1]!=final:\n",
    "            local_paths.append(i[0])\n",
    "            initial_path_2=[x for x in possible_paths if x[0]==i[1] and x[1]!=initial]\n",
    "            data=check_multiple(i[1],final_pos,initial_path_2,final_paths,count)\n",
    "            for i in data:\n",
    "                local_paths.append(i)\n",
    "            count+=1\n",
    "\n",
    "        else:\n",
    "            local_paths.append(i[0])\n",
    "            local_paths.append(i[1])\n",
    "            count+=1\n",
    "            \n",
    "        \n",
    "    return local_paths"
   ]
  },
  {
   "cell_type": "code",
   "execution_count": 34,
   "metadata": {},
   "outputs": [],
   "source": [
    "paths=check_multiple(initial_position,final_position,initial_position_paths,path_lead_to_final_position)"
   ]
  },
  {
   "cell_type": "code",
   "execution_count": 35,
   "metadata": {},
   "outputs": [
    {
     "data": {
      "text/plain": [
       "['Home',\n",
       " 'Store A',\n",
       " 'Store B',\n",
       " 'School',\n",
       " 'intersection',\n",
       " 'School',\n",
       " 'Hospital',\n",
       " 'Home',\n",
       " 'Store B',\n",
       " 'School',\n",
       " 'intersection',\n",
       " 'School',\n",
       " 'Hospital',\n",
       " 'Home',\n",
       " 'intersection']"
      ]
     },
     "execution_count": 35,
     "metadata": {},
     "output_type": "execute_result"
    }
   ],
   "source": [
    "paths"
   ]
  },
  {
   "cell_type": "code",
   "execution_count": 36,
   "metadata": {},
   "outputs": [],
   "source": [
    "def del_elements(paths):\n",
    "    init_index=paths.index(initial_position)\n",
    "    final_index=paths.index(final_position)\n",
    "    data=paths[init_index:final_index+1]\n",
    "    del paths[init_index:final_index+1]\n",
    "    return [data,paths]"
   ]
  },
  {
   "cell_type": "code",
   "execution_count": 37,
   "metadata": {},
   "outputs": [],
   "source": [
    "copy_paths=paths.copy()\n",
    "arr=[]"
   ]
  },
  {
   "cell_type": "code",
   "execution_count": 38,
   "metadata": {},
   "outputs": [],
   "source": [
    "for i in range(paths.count(initial_position)):\n",
    "    allls=del_elements(copy_paths)\n",
    "    arr.append(allls[0])"
   ]
  },
  {
   "cell_type": "code",
   "execution_count": 39,
   "metadata": {},
   "outputs": [],
   "source": [
    "for i in range(len(arr)):\n",
    "    arr[i]=list(dict.fromkeys(arr[i]))"
   ]
  },
  {
   "cell_type": "code",
   "execution_count": 40,
   "metadata": {},
   "outputs": [
    {
     "data": {
      "text/plain": [
       "[['Home', 'Store A', 'Store B', 'School', 'intersection'],\n",
       " ['Home', 'Store B', 'School', 'intersection'],\n",
       " ['Home', 'intersection']]"
      ]
     },
     "execution_count": 40,
     "metadata": {},
     "output_type": "execute_result"
    }
   ],
   "source": [
    "arr"
   ]
  },
  {
   "cell_type": "code",
   "execution_count": null,
   "metadata": {},
   "outputs": [],
   "source": []
  }
 ],
 "metadata": {
  "kernelspec": {
   "display_name": "Python 3",
   "language": "python",
   "name": "python3"
  },
  "language_info": {
   "codemirror_mode": {
    "name": "ipython",
    "version": 3
   },
   "file_extension": ".py",
   "mimetype": "text/x-python",
   "name": "python",
   "nbconvert_exporter": "python",
   "pygments_lexer": "ipython3",
   "version": "3.8.5"
  }
 },
 "nbformat": 4,
 "nbformat_minor": 4
}
